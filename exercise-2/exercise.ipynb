{
 "cells": [
  {
   "cell_type": "markdown",
   "metadata": {},
   "source": [
    "# Exercise 2\n",
    "Add the specified code for each code cell, running the cells _in order_."
   ]
  },
  {
   "cell_type": "markdown",
   "metadata": {},
   "source": [
    "Run the below cell to import `pandas` and `numpy`"
   ]
  },
  {
   "cell_type": "code",
   "execution_count": 6,
   "metadata": {},
   "outputs": [],
   "source": [
    "import pandas as pd\n",
    "import numpy as np"
   ]
  },
  {
   "cell_type": "markdown",
   "metadata": {},
   "source": [
    "Create a Series of 100 employees **`names`** (\"Employee 1\", \"Employee 2\", ... \"Employee 100\"). _Tip:_ use a list comprehension to produce the list of strings by concatenating \"Employee\" with the numbers from a range.\n",
    "- Use the `head()` and `tail()` methods to print the first and last 3 employees to check your work."
   ]
  },
  {
   "cell_type": "code",
   "execution_count": 32,
   "metadata": {},
   "outputs": [
    {
     "name": "stdout",
     "output_type": "stream",
     "text": [
      "100\n"
     ]
    }
   ],
   "source": [
    "names = [\"Employee\"+str(loop) for loop in range(1,101)] #list comprehension\n",
    "names_Series = pd.Series(names)\n",
    "print(len(names_Series))"
   ]
  },
  {
   "cell_type": "markdown",
   "metadata": {},
   "source": [
    "Create a Series of 100 random salaries for the year 2016. These should be uniformly distributed between 40000 and 50000. _Hint:_ try using the [**numpy.random.uniform()**](https://docs.scipy.org/doc/numpy/reference/generated/numpy.random.uniform.html) function, or call the Python `random.uniform()` function repeatedly.\n",
    "- This is not a liveable wage in Seattle, and in fact is below US median :("
   ]
  },
  {
   "cell_type": "code",
   "execution_count": null,
   "metadata": {},
   "outputs": [],
   "source": []
  },
  {
   "cell_type": "code",
   "execution_count": 29,
   "metadata": {},
   "outputs": [
    {
     "name": "stdout",
     "output_type": "stream",
     "text": [
      "100\n"
     ]
    }
   ],
   "source": [
    "# import random\n",
    "# salaries = [random.uniform(40000,50000) for i in range(1,100)]\n",
    "# print(salaries)\n",
    "salaries_2016 = np.random.uniform(40000,50000,100)\n",
    "print(len(salaries_2016))"
   ]
  },
  {
   "cell_type": "markdown",
   "metadata": {},
   "source": [
    "Create a Series of 100 salaries in 2017 that have changed from 2016 by a random amount between -5000 and 10000."
   ]
  },
  {
   "cell_type": "code",
   "execution_count": 30,
   "metadata": {},
   "outputs": [
    {
     "name": "stdout",
     "output_type": "stream",
     "text": [
      "100\n"
     ]
    }
   ],
   "source": [
    "salaries_change = np.random.uniform(-5000,10000,100)\n",
    "salaries_2017 =salaries_2016+salaries_change\n",
    "print(len(salaries_2017))"
   ]
  },
  {
   "cell_type": "markdown",
   "metadata": {},
   "source": [
    "Create a DataFrame **`salaries`** by combining the three Series you just made (employee names, 2016 salaries, and 2017 salaries)."
   ]
  },
  {
   "cell_type": "code",
   "execution_count": 33,
   "metadata": {},
   "outputs": [],
   "source": [
    "salaries = pd.DataFrame({'name':names_Series,\n",
    "                        'salary2016':salaries_2016,\n",
    "                        'salary2017':salaries_2017})"
   ]
  },
  {
   "cell_type": "markdown",
   "metadata": {},
   "source": [
    "Print the first 10 rows in the `salaries` DataFrame."
   ]
  },
  {
   "cell_type": "code",
   "execution_count": 74,
   "metadata": {},
   "outputs": [
    {
     "data": {
      "text/html": [
       "<div>\n",
       "<style scoped>\n",
       "    .dataframe tbody tr th:only-of-type {\n",
       "        vertical-align: middle;\n",
       "    }\n",
       "\n",
       "    .dataframe tbody tr th {\n",
       "        vertical-align: top;\n",
       "    }\n",
       "\n",
       "    .dataframe thead th {\n",
       "        text-align: right;\n",
       "    }\n",
       "</style>\n",
       "<table border=\"1\" class=\"dataframe\">\n",
       "  <thead>\n",
       "    <tr style=\"text-align: right;\">\n",
       "      <th></th>\n",
       "      <th>name</th>\n",
       "      <th>salary2016</th>\n",
       "      <th>salary2017</th>\n",
       "      <th>change</th>\n",
       "      <th>got_raise</th>\n",
       "    </tr>\n",
       "  </thead>\n",
       "  <tbody>\n",
       "    <tr>\n",
       "      <th>0</th>\n",
       "      <td>Employee1</td>\n",
       "      <td>46357.433908</td>\n",
       "      <td>46514.219183</td>\n",
       "      <td>156.785275</td>\n",
       "      <td>True</td>\n",
       "    </tr>\n",
       "    <tr>\n",
       "      <th>1</th>\n",
       "      <td>Employee2</td>\n",
       "      <td>45418.980868</td>\n",
       "      <td>49830.230895</td>\n",
       "      <td>4411.250027</td>\n",
       "      <td>True</td>\n",
       "    </tr>\n",
       "    <tr>\n",
       "      <th>2</th>\n",
       "      <td>Employee3</td>\n",
       "      <td>45748.034308</td>\n",
       "      <td>44055.819482</td>\n",
       "      <td>-1692.214826</td>\n",
       "      <td>False</td>\n",
       "    </tr>\n",
       "    <tr>\n",
       "      <th>3</th>\n",
       "      <td>Employee4</td>\n",
       "      <td>45490.173089</td>\n",
       "      <td>48266.782099</td>\n",
       "      <td>2776.609011</td>\n",
       "      <td>True</td>\n",
       "    </tr>\n",
       "    <tr>\n",
       "      <th>4</th>\n",
       "      <td>Employee5</td>\n",
       "      <td>40210.984600</td>\n",
       "      <td>46887.779898</td>\n",
       "      <td>6676.795298</td>\n",
       "      <td>True</td>\n",
       "    </tr>\n",
       "    <tr>\n",
       "      <th>5</th>\n",
       "      <td>Employee6</td>\n",
       "      <td>48221.876736</td>\n",
       "      <td>47000.890603</td>\n",
       "      <td>-1220.986133</td>\n",
       "      <td>False</td>\n",
       "    </tr>\n",
       "    <tr>\n",
       "      <th>6</th>\n",
       "      <td>Employee7</td>\n",
       "      <td>41221.170702</td>\n",
       "      <td>39428.172459</td>\n",
       "      <td>-1792.998244</td>\n",
       "      <td>False</td>\n",
       "    </tr>\n",
       "    <tr>\n",
       "      <th>7</th>\n",
       "      <td>Employee8</td>\n",
       "      <td>43441.124053</td>\n",
       "      <td>44011.828034</td>\n",
       "      <td>570.703981</td>\n",
       "      <td>True</td>\n",
       "    </tr>\n",
       "    <tr>\n",
       "      <th>8</th>\n",
       "      <td>Employee9</td>\n",
       "      <td>49617.283860</td>\n",
       "      <td>49447.891735</td>\n",
       "      <td>-169.392125</td>\n",
       "      <td>False</td>\n",
       "    </tr>\n",
       "    <tr>\n",
       "      <th>9</th>\n",
       "      <td>Employee10</td>\n",
       "      <td>43113.446826</td>\n",
       "      <td>44027.407309</td>\n",
       "      <td>913.960483</td>\n",
       "      <td>True</td>\n",
       "    </tr>\n",
       "  </tbody>\n",
       "</table>\n",
       "</div>"
      ],
      "text/plain": [
       "         name    salary2016    salary2017       change  got_raise\n",
       "0   Employee1  46357.433908  46514.219183   156.785275       True\n",
       "1   Employee2  45418.980868  49830.230895  4411.250027       True\n",
       "2   Employee3  45748.034308  44055.819482 -1692.214826      False\n",
       "3   Employee4  45490.173089  48266.782099  2776.609011       True\n",
       "4   Employee5  40210.984600  46887.779898  6676.795298       True\n",
       "5   Employee6  48221.876736  47000.890603 -1220.986133      False\n",
       "6   Employee7  41221.170702  39428.172459 -1792.998244      False\n",
       "7   Employee8  43441.124053  44011.828034   570.703981       True\n",
       "8   Employee9  49617.283860  49447.891735  -169.392125      False\n",
       "9  Employee10  43113.446826  44027.407309   913.960483       True"
      ]
     },
     "execution_count": 74,
     "metadata": {},
     "output_type": "execute_result"
    }
   ],
   "source": [
    "salaries.loc[0:9]\n",
    "salaries.head(10)"
   ]
  },
  {
   "cell_type": "markdown",
   "metadata": {},
   "source": [
    "Add a column **`change`** to your DataFrame that contains the difference in salary between 2017 and 2016."
   ]
  },
  {
   "cell_type": "code",
   "execution_count": 41,
   "metadata": {},
   "outputs": [
    {
     "data": {
      "text/html": [
       "<div>\n",
       "<style scoped>\n",
       "    .dataframe tbody tr th:only-of-type {\n",
       "        vertical-align: middle;\n",
       "    }\n",
       "\n",
       "    .dataframe tbody tr th {\n",
       "        vertical-align: top;\n",
       "    }\n",
       "\n",
       "    .dataframe thead th {\n",
       "        text-align: right;\n",
       "    }\n",
       "</style>\n",
       "<table border=\"1\" class=\"dataframe\">\n",
       "  <thead>\n",
       "    <tr style=\"text-align: right;\">\n",
       "      <th></th>\n",
       "      <th>name</th>\n",
       "      <th>salary2016</th>\n",
       "      <th>salary2017</th>\n",
       "      <th>change</th>\n",
       "    </tr>\n",
       "  </thead>\n",
       "  <tbody>\n",
       "    <tr>\n",
       "      <th>0</th>\n",
       "      <td>Employee1</td>\n",
       "      <td>46357.433908</td>\n",
       "      <td>46514.219183</td>\n",
       "      <td>156.785275</td>\n",
       "    </tr>\n",
       "    <tr>\n",
       "      <th>1</th>\n",
       "      <td>Employee2</td>\n",
       "      <td>45418.980868</td>\n",
       "      <td>49830.230895</td>\n",
       "      <td>4411.250027</td>\n",
       "    </tr>\n",
       "    <tr>\n",
       "      <th>2</th>\n",
       "      <td>Employee3</td>\n",
       "      <td>45748.034308</td>\n",
       "      <td>44055.819482</td>\n",
       "      <td>-1692.214826</td>\n",
       "    </tr>\n",
       "    <tr>\n",
       "      <th>3</th>\n",
       "      <td>Employee4</td>\n",
       "      <td>45490.173089</td>\n",
       "      <td>48266.782099</td>\n",
       "      <td>2776.609011</td>\n",
       "    </tr>\n",
       "    <tr>\n",
       "      <th>4</th>\n",
       "      <td>Employee5</td>\n",
       "      <td>40210.984600</td>\n",
       "      <td>46887.779898</td>\n",
       "      <td>6676.795298</td>\n",
       "    </tr>\n",
       "    <tr>\n",
       "      <th>...</th>\n",
       "      <td>...</td>\n",
       "      <td>...</td>\n",
       "      <td>...</td>\n",
       "      <td>...</td>\n",
       "    </tr>\n",
       "    <tr>\n",
       "      <th>95</th>\n",
       "      <td>Employee96</td>\n",
       "      <td>44563.129490</td>\n",
       "      <td>40488.384226</td>\n",
       "      <td>-4074.745264</td>\n",
       "    </tr>\n",
       "    <tr>\n",
       "      <th>96</th>\n",
       "      <td>Employee97</td>\n",
       "      <td>46607.164485</td>\n",
       "      <td>45408.889927</td>\n",
       "      <td>-1198.274558</td>\n",
       "    </tr>\n",
       "    <tr>\n",
       "      <th>97</th>\n",
       "      <td>Employee98</td>\n",
       "      <td>40273.006191</td>\n",
       "      <td>42721.069668</td>\n",
       "      <td>2448.063478</td>\n",
       "    </tr>\n",
       "    <tr>\n",
       "      <th>98</th>\n",
       "      <td>Employee99</td>\n",
       "      <td>48349.205041</td>\n",
       "      <td>51278.855085</td>\n",
       "      <td>2929.650044</td>\n",
       "    </tr>\n",
       "    <tr>\n",
       "      <th>99</th>\n",
       "      <td>Employee100</td>\n",
       "      <td>42947.844864</td>\n",
       "      <td>52822.215909</td>\n",
       "      <td>9874.371044</td>\n",
       "    </tr>\n",
       "  </tbody>\n",
       "</table>\n",
       "<p>100 rows × 4 columns</p>\n",
       "</div>"
      ],
      "text/plain": [
       "           name    salary2016    salary2017       change\n",
       "0     Employee1  46357.433908  46514.219183   156.785275\n",
       "1     Employee2  45418.980868  49830.230895  4411.250027\n",
       "2     Employee3  45748.034308  44055.819482 -1692.214826\n",
       "3     Employee4  45490.173089  48266.782099  2776.609011\n",
       "4     Employee5  40210.984600  46887.779898  6676.795298\n",
       "..          ...           ...           ...          ...\n",
       "95   Employee96  44563.129490  40488.384226 -4074.745264\n",
       "96   Employee97  46607.164485  45408.889927 -1198.274558\n",
       "97   Employee98  40273.006191  42721.069668  2448.063478\n",
       "98   Employee99  48349.205041  51278.855085  2929.650044\n",
       "99  Employee100  42947.844864  52822.215909  9874.371044\n",
       "\n",
       "[100 rows x 4 columns]"
      ]
     },
     "execution_count": 41,
     "metadata": {},
     "output_type": "execute_result"
    }
   ],
   "source": [
    "change = salaries_2017- salaries_2016\n",
    "salaries['change'] = change\n",
    "salaries"
   ]
  },
  {
   "cell_type": "markdown",
   "metadata": {},
   "source": [
    "Add a column **`got_raise`** to your DataFrame that is `True` if the employee got a raise (their salary increased) in 2017."
   ]
  },
  {
   "cell_type": "code",
   "execution_count": 44,
   "metadata": {},
   "outputs": [
    {
     "data": {
      "text/html": [
       "<div>\n",
       "<style scoped>\n",
       "    .dataframe tbody tr th:only-of-type {\n",
       "        vertical-align: middle;\n",
       "    }\n",
       "\n",
       "    .dataframe tbody tr th {\n",
       "        vertical-align: top;\n",
       "    }\n",
       "\n",
       "    .dataframe thead th {\n",
       "        text-align: right;\n",
       "    }\n",
       "</style>\n",
       "<table border=\"1\" class=\"dataframe\">\n",
       "  <thead>\n",
       "    <tr style=\"text-align: right;\">\n",
       "      <th></th>\n",
       "      <th>name</th>\n",
       "      <th>salary2016</th>\n",
       "      <th>salary2017</th>\n",
       "      <th>change</th>\n",
       "      <th>got_raise</th>\n",
       "    </tr>\n",
       "  </thead>\n",
       "  <tbody>\n",
       "    <tr>\n",
       "      <th>0</th>\n",
       "      <td>Employee1</td>\n",
       "      <td>46357.433908</td>\n",
       "      <td>46514.219183</td>\n",
       "      <td>156.785275</td>\n",
       "      <td>True</td>\n",
       "    </tr>\n",
       "    <tr>\n",
       "      <th>1</th>\n",
       "      <td>Employee2</td>\n",
       "      <td>45418.980868</td>\n",
       "      <td>49830.230895</td>\n",
       "      <td>4411.250027</td>\n",
       "      <td>True</td>\n",
       "    </tr>\n",
       "    <tr>\n",
       "      <th>2</th>\n",
       "      <td>Employee3</td>\n",
       "      <td>45748.034308</td>\n",
       "      <td>44055.819482</td>\n",
       "      <td>-1692.214826</td>\n",
       "      <td>False</td>\n",
       "    </tr>\n",
       "    <tr>\n",
       "      <th>3</th>\n",
       "      <td>Employee4</td>\n",
       "      <td>45490.173089</td>\n",
       "      <td>48266.782099</td>\n",
       "      <td>2776.609011</td>\n",
       "      <td>True</td>\n",
       "    </tr>\n",
       "    <tr>\n",
       "      <th>4</th>\n",
       "      <td>Employee5</td>\n",
       "      <td>40210.984600</td>\n",
       "      <td>46887.779898</td>\n",
       "      <td>6676.795298</td>\n",
       "      <td>True</td>\n",
       "    </tr>\n",
       "    <tr>\n",
       "      <th>...</th>\n",
       "      <td>...</td>\n",
       "      <td>...</td>\n",
       "      <td>...</td>\n",
       "      <td>...</td>\n",
       "      <td>...</td>\n",
       "    </tr>\n",
       "    <tr>\n",
       "      <th>95</th>\n",
       "      <td>Employee96</td>\n",
       "      <td>44563.129490</td>\n",
       "      <td>40488.384226</td>\n",
       "      <td>-4074.745264</td>\n",
       "      <td>False</td>\n",
       "    </tr>\n",
       "    <tr>\n",
       "      <th>96</th>\n",
       "      <td>Employee97</td>\n",
       "      <td>46607.164485</td>\n",
       "      <td>45408.889927</td>\n",
       "      <td>-1198.274558</td>\n",
       "      <td>False</td>\n",
       "    </tr>\n",
       "    <tr>\n",
       "      <th>97</th>\n",
       "      <td>Employee98</td>\n",
       "      <td>40273.006191</td>\n",
       "      <td>42721.069668</td>\n",
       "      <td>2448.063478</td>\n",
       "      <td>True</td>\n",
       "    </tr>\n",
       "    <tr>\n",
       "      <th>98</th>\n",
       "      <td>Employee99</td>\n",
       "      <td>48349.205041</td>\n",
       "      <td>51278.855085</td>\n",
       "      <td>2929.650044</td>\n",
       "      <td>True</td>\n",
       "    </tr>\n",
       "    <tr>\n",
       "      <th>99</th>\n",
       "      <td>Employee100</td>\n",
       "      <td>42947.844864</td>\n",
       "      <td>52822.215909</td>\n",
       "      <td>9874.371044</td>\n",
       "      <td>True</td>\n",
       "    </tr>\n",
       "  </tbody>\n",
       "</table>\n",
       "<p>100 rows × 5 columns</p>\n",
       "</div>"
      ],
      "text/plain": [
       "           name    salary2016    salary2017       change  got_raise\n",
       "0     Employee1  46357.433908  46514.219183   156.785275       True\n",
       "1     Employee2  45418.980868  49830.230895  4411.250027       True\n",
       "2     Employee3  45748.034308  44055.819482 -1692.214826      False\n",
       "3     Employee4  45490.173089  48266.782099  2776.609011       True\n",
       "4     Employee5  40210.984600  46887.779898  6676.795298       True\n",
       "..          ...           ...           ...          ...        ...\n",
       "95   Employee96  44563.129490  40488.384226 -4074.745264      False\n",
       "96   Employee97  46607.164485  45408.889927 -1198.274558      False\n",
       "97   Employee98  40273.006191  42721.069668  2448.063478       True\n",
       "98   Employee99  48349.205041  51278.855085  2929.650044       True\n",
       "99  Employee100  42947.844864  52822.215909  9874.371044       True\n",
       "\n",
       "[100 rows x 5 columns]"
      ]
     },
     "execution_count": 44,
     "metadata": {},
     "output_type": "execute_result"
    }
   ],
   "source": [
    "got_raise = change > 0\n",
    "salaries['got_raise'] = got_raise\n",
    "salaries"
   ]
  },
  {
   "cell_type": "markdown",
   "metadata": {},
   "source": [
    "**Retrieve values from the `salaries` DataFrame to answer the following questions. Try to get as specific a value as possible (e.g., a single value rather than the whole row!)**"
   ]
  },
  {
   "cell_type": "markdown",
   "metadata": {},
   "source": [
    "What was the 2017 salary of Employee 57?"
   ]
  },
  {
   "cell_type": "code",
   "execution_count": 51,
   "metadata": {},
   "outputs": [
    {
     "data": {
      "text/plain": [
       "44556.136849084985"
      ]
     },
     "execution_count": 51,
     "metadata": {},
     "output_type": "execute_result"
    }
   ],
   "source": [
    "salaries.iloc[56]['salary2017']"
   ]
  },
  {
   "cell_type": "markdown",
   "metadata": {},
   "source": [
    "How many employees got a raise? (It should be around 2/3rds)"
   ]
  },
  {
   "cell_type": "code",
   "execution_count": 59,
   "metadata": {},
   "outputs": [
    {
     "data": {
      "text/plain": [
       "66"
      ]
     },
     "execution_count": 59,
     "metadata": {},
     "output_type": "execute_result"
    }
   ],
   "source": [
    "len(salaries[salaries.got_raise])"
   ]
  },
  {
   "cell_type": "markdown",
   "metadata": {},
   "source": [
    "What was the amount of the largest raise?"
   ]
  },
  {
   "cell_type": "code",
   "execution_count": 60,
   "metadata": {},
   "outputs": [
    {
     "data": {
      "text/plain": [
       "9963.175927152777"
      ]
     },
     "execution_count": 60,
     "metadata": {},
     "output_type": "execute_result"
    }
   ],
   "source": [
    "salaries.change.max()"
   ]
  },
  {
   "cell_type": "markdown",
   "metadata": {},
   "source": [
    "What was the \"name\" of the employee who received the highest raise?"
   ]
  },
  {
   "cell_type": "code",
   "execution_count": 62,
   "metadata": {},
   "outputs": [
    {
     "data": {
      "text/html": [
       "<div>\n",
       "<style scoped>\n",
       "    .dataframe tbody tr th:only-of-type {\n",
       "        vertical-align: middle;\n",
       "    }\n",
       "\n",
       "    .dataframe tbody tr th {\n",
       "        vertical-align: top;\n",
       "    }\n",
       "\n",
       "    .dataframe thead th {\n",
       "        text-align: right;\n",
       "    }\n",
       "</style>\n",
       "<table border=\"1\" class=\"dataframe\">\n",
       "  <thead>\n",
       "    <tr style=\"text-align: right;\">\n",
       "      <th></th>\n",
       "      <th>name</th>\n",
       "      <th>salary2016</th>\n",
       "      <th>salary2017</th>\n",
       "      <th>change</th>\n",
       "      <th>got_raise</th>\n",
       "    </tr>\n",
       "  </thead>\n",
       "  <tbody>\n",
       "    <tr>\n",
       "      <th>70</th>\n",
       "      <td>Employee71</td>\n",
       "      <td>44608.436563</td>\n",
       "      <td>54571.61249</td>\n",
       "      <td>9963.175927</td>\n",
       "      <td>True</td>\n",
       "    </tr>\n",
       "  </tbody>\n",
       "</table>\n",
       "</div>"
      ],
      "text/plain": [
       "          name    salary2016   salary2017       change  got_raise\n",
       "70  Employee71  44608.436563  54571.61249  9963.175927       True"
      ]
     },
     "execution_count": 62,
     "metadata": {},
     "output_type": "execute_result"
    }
   ],
   "source": [
    "salaries[change == 9963.175927152777]"
   ]
  },
  {
   "cell_type": "markdown",
   "metadata": {},
   "source": [
    "What is the name and 2017 salary of the person who received the largest payment (decrease in salary) between the two years?"
   ]
  },
  {
   "cell_type": "code",
   "execution_count": 80,
   "metadata": {},
   "outputs": [
    {
     "data": {
      "text/html": [
       "<div>\n",
       "<style scoped>\n",
       "    .dataframe tbody tr th:only-of-type {\n",
       "        vertical-align: middle;\n",
       "    }\n",
       "\n",
       "    .dataframe tbody tr th {\n",
       "        vertical-align: top;\n",
       "    }\n",
       "\n",
       "    .dataframe thead th {\n",
       "        text-align: right;\n",
       "    }\n",
       "</style>\n",
       "<table border=\"1\" class=\"dataframe\">\n",
       "  <thead>\n",
       "    <tr style=\"text-align: right;\">\n",
       "      <th></th>\n",
       "      <th>name</th>\n",
       "      <th>salary2017</th>\n",
       "    </tr>\n",
       "  </thead>\n",
       "  <tbody>\n",
       "    <tr>\n",
       "      <th>43</th>\n",
       "      <td>Employee44</td>\n",
       "      <td>36801.046806</td>\n",
       "    </tr>\n",
       "  </tbody>\n",
       "</table>\n",
       "</div>"
      ],
      "text/plain": [
       "          name    salary2017\n",
       "43  Employee44  36801.046806"
      ]
     },
     "execution_count": 80,
     "metadata": {},
     "output_type": "execute_result"
    }
   ],
   "source": [
    "#salaries[change == salaries['change'].max()]['name']\n",
    "salaries.loc[salaries.change == salaries.change.min(),['name','salary2017']]\n",
    "#salaries.loc[salaries.change == salaries.change.min(), ['employee','salary_2017']].iloc[0]"
   ]
  },
  {
   "cell_type": "code",
   "execution_count": null,
   "metadata": {},
   "outputs": [],
   "source": []
  }
 ],
 "metadata": {
  "kernelspec": {
   "display_name": "Python 3 (ipykernel)",
   "language": "python",
   "name": "python3"
  },
  "language_info": {
   "codemirror_mode": {
    "name": "ipython",
    "version": 3
   },
   "file_extension": ".py",
   "mimetype": "text/x-python",
   "name": "python",
   "nbconvert_exporter": "python",
   "pygments_lexer": "ipython3",
   "version": "3.9.7"
  },
  "toc": {
   "colors": {
    "hover_highlight": "#DAA520",
    "running_highlight": "#FF0000",
    "selected_highlight": "#FFD700"
   },
   "moveMenuLeft": true,
   "nav_menu": {
    "height": "30px",
    "width": "252px"
   },
   "navigate_menu": true,
   "number_sections": true,
   "sideBar": true,
   "threshold": 4,
   "toc_cell": false,
   "toc_section_display": "block",
   "toc_window_display": false,
   "widenNotebook": false
  }
 },
 "nbformat": 4,
 "nbformat_minor": 2
}
